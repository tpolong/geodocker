{
 "cells": [
  {
   "cell_type": "code",
   "execution_count": 1,
   "metadata": {
    "collapsed": true
   },
   "outputs": [],
   "source": [
    "import geopyspark as gps\n",
    "import matplotlib.pyplot as plt\n",
    "\n",
    "from colortools import Color\n",
    "from pyspark import SparkContext\n",
    "from functools import partial\n",
    "\n",
    "import fiona\n",
    "import pyproj\n",
    "\n",
    "from shapely.geometry import MultiPoint, MultiLineString, shape\n",
    "from shapely.ops import transform\n",
    "from geonotebook.wrappers import VectorData, TMSRasterData\n",
    "%matplotlib inline"
   ]
  },
  {
   "cell_type": "code",
   "execution_count": 2,
   "metadata": {},
   "outputs": [],
   "source": [
    "!curl -o /tmp/cropped.tif https://raw.githubusercontent.com/tpolong/geodocker/master/cropped.tif"
   ]
  },
  {
   "cell_type": "code",
   "execution_count": 3,
   "metadata": {
    "collapsed": true
   },
   "outputs": [],
   "source": [
    "conf = gps.geopyspark_conf(master=\"local[*]\", appName=\"visualization\")\n",
    "pysc = SparkContext(conf=conf)"
   ]
  },
  {
   "cell_type": "code",
   "execution_count": 4,
   "metadata": {
    "collapsed": true
   },
   "outputs": [],
   "source": [
    "raster_layer = gps.geotiff.get(layer_type=gps.LayerType.SPATIAL, uri=\"/tmp/cropped.tif\")\n",
    "tiled_layer = raster_layer.tile_to_layout(layout=gps.GlobalLayout(), target_crs=3857)"
   ]
  },
  {
   "cell_type": "code",
   "execution_count": 5,
   "metadata": {},
   "outputs": [],
   "source": [
    "pyramided = tiled_layer.pyramid()\n",
    "pyramided"
   ]
  },
  {
   "cell_type": "code",
   "execution_count": 6,
   "metadata": {},
   "outputs": [],
   "source": [
    "gps.Pyramid([tiled_layer.tile_to_layout(gps.GlobalLayout(zoom=x)) for x in range(0, 13)])"
   ]
  },
  {
   "cell_type": "code",
   "execution_count": 7,
   "metadata": {},
   "outputs": [
  
   ],
   "source": [
    "gps.Pyramid({x: tiled_layer.tile_to_layout(gps.GlobalLayout(zoom=x)) for x in range(0, 13)})"
   ]
  },
  {
   "cell_type": "code",
   "execution_count": 8,
   "metadata": {},
   "outputs": [],
   "source": [
    "hist = pyramided.get_histogram()\n",
    "hist"
   ]
  },
  {
   "cell_type": "code",
   "execution_count": 9,
   "metadata": {},
   "outputs": [],
   "source": [
    "pyramided + 1"
   ]
  },
  {
   "cell_type": "code",
   "execution_count": 10,
   "metadata": {},
   "outputs": [],
   "source": [
    "(2 * (pyramided + 2)) / 3"
   ]
  },
  {
   "cell_type": "code",
   "execution_count": 11,
   "metadata": {},
   "outputs": [],
   "source": [
    "small_pyramid = gps.Pyramid({x: tiled_layer.tile_to_layout(gps.GlobalLayout(zoom=x)) for x in range(0, 5)})\n",
    "small_pyramid"
   ]
  },
  {
   "cell_type": "code",
   "execution_count": 12,
   "metadata": {},
   "outputs": [],
   "source": [
    "pyramided + small_pyramid"
   ]
  },
  {
   "cell_type": "code",
   "execution_count": 13,
   "metadata": {},
   "outputs": [],
   "source": [
    "color_ramp = gps.get_colors_from_matplotlib(ramp_name=\"viridis\")\n",
    "color_ramp"
   ]
  },
  {
   "cell_type": "code",
   "execution_count": 14,
   "metadata": {},
   "outputs": [
    {
     "data": {
      "text/plain": [
       "[167772415,\n",
       " 218104063,\n",
       " 301990143,\n",
       " 385876223,\n",
       " 436207871,\n",
       " 520093951,\n",
       " 603980031,\n",
       " 704643327,\n",
       " 738197759,\n",
       " 822083839,\n",
       " 922747135,\n",
       " 956301567,\n",
       " 1056964863,\n",
       " 1140850943,\n",
       " 1224737023,\n",
       " 1275068671,\n",
       " 1358954751,\n",
       " 1442840831,\n",
       " 1493172479,\n",
       " 1577058559,\n",
       " 1660944639,\n",
       " 1761607935,\n",
       " 1795162367,\n",
       " 1879048447,\n",
       " 1979711743,\n",
       " 2013266175,\n",
       " 2113929471,\n",
       " 2197815551,\n",
       " 2281701631,\n",
       " 2332033279,\n",
       " 2415919359,\n",
       " 2499805439,\n",
       " 2550137087,\n",
       " 2634023167,\n",
       " 2717909247,\n",
       " 2818572543,\n",
       " 2852126975,\n",
       " 2936013055,\n",
       " 3036676351,\n",
       " 3120562431,\n",
       " 3170894079,\n",
       " 3254780159,\n",
       " 3338666239,\n",
       " 3388997887,\n",
       " 3472883967,\n",
       " 3556770047,\n",
       " 3640656127,\n",
       " 3690987775,\n",
       " 3774873855,\n",
       " 3875537151,\n",
       " 3909091583,\n",
       " 3992977663,\n",
       " 4093640959,\n",
       " 4177527039,\n",
       " 4227858687,\n",
       " 4278321407,\n",
       " 4278649087,\n",
       " 4278845695,\n",
       " 4279173375,\n",
       " 4279501055,\n",
       " 4279894271,\n",
       " 4280025343,\n",
       " 4280353023,\n",
       " 4280746239,\n",
       " 4280877311,\n",
       " 4281270527,\n",
       " 4281598207,\n",
       " 4281925887,\n",
       " 4282122495,\n",
       " 4282450175,\n",
       " 4282777855,\n",
       " 4282974463,\n",
       " 4283302143,\n",
       " 4283629823,\n",
       " 4284023039,\n",
       " 4284154111,\n",
       " 4284481791,\n",
       " 4284875007,\n",
       " 4285202687,\n",
       " 4285399295,\n",
       " 4285726975,\n",
       " 4286054655,\n",
       " 4286251263,\n",
       " 4286578943,\n",
       " 4286906623,\n",
       " 4287234303,\n",
       " 4287430911,\n",
       " 4287758591,\n",
       " 4288086271,\n",
       " 4288282879,\n",
       " 4288610559,\n",
       " 4289003775,\n",
       " 4289331455,\n",
       " 4289462527,\n",
       " 4289855743,\n",
       " 4290183423,\n",
       " 4290380031,\n",
       " 4290707711,\n",
       " 4291035391,\n",
       " 4291363071,\n",
       " 4291559679,\n",
       " 4291887359,\n",
       " 4292215039,\n",
       " 4292411647,\n",
       " 4292739327,\n",
       " 4293132543,\n",
       " 4293460223,\n",
       " 4293591295,\n",
       " 4293984511,\n",
       " 4294312191,\n",
       " 4294508799,\n",
       " 4294836479,\n",
       " 4294903551,\n",
       " 4294905599,\n",
       " 4294906623,\n",
       " 4294908671,\n",
       " 4294910719,\n",
       " 4294912767,\n",
       " 4294913791,\n",
       " 4294915839,\n",
       " 4294917887,\n",
       " 4294918655,\n",
       " 4294920703,\n",
       " 4294922751,\n",
       " 4294924799,\n",
       " 4294925823,\n",
       " 4294927871,\n",
       " 4294929919,\n",
       " 4294930943,\n",
       " 4294932991,\n",
       " 4294934783,\n",
       " 4294936831,\n",
       " 4294937855,\n",
       " 4294939903,\n",
       " 4294941951,\n",
       " 4294942975,\n",
       " 4294945023,\n",
       " 4294947071,\n",
       " 4294949119,\n",
       " 4294950143,\n",
       " 4294951935,\n",
       " 4294953983,\n",
       " 4294955007,\n",
       " 4294957055,\n",
       " 4294959103,\n",
       " 4294961151,\n",
       " 4294962175,\n",
       " 4294964223,\n",
       " 4294966271,\n",
       " 4294967295]"
      ]
     },
     "execution_count": 14,
     "metadata": {},
     "output_type": "execute_result"
    }
   ],
   "source": [
    "gps.get_colors_from_matplotlib(ramp_name=\"hot\", num_colors=150)"
   ]
  },
  {
   "cell_type": "code",
   "execution_count": 15,
   "metadata": {},
   "outputs": [
    {
     "data": {
      "text/plain": [
       "[Color(0, 128, 0, 255), Color(255, 0, 0, 255), Color(0, 0, 255, 255)]"
      ]
     },
     "execution_count": 15,
     "metadata": {},
     "output_type": "execute_result"
    }
   ],
   "source": [
    "colors = [Color('green'), Color('red'), Color('blue')]\n",
    "colors"
   ]
  },
  {
   "cell_type": "code",
   "execution_count": 16,
   "metadata": {},
   "outputs": [
    {
     "data": {
      "text/plain": [
       "[8388863, 4278190335, 65535]"
      ]
     },
     "execution_count": 16,
     "metadata": {},
     "output_type": "execute_result"
    }
   ],
   "source": [
    "colors_color_ramp = gps.get_colors_from_colors(colors=colors)\n",
    "colors_color_ramp"
   ]
  },
  {
   "cell_type": "code",
   "execution_count": 17,
   "metadata": {},
   "outputs": [
    {
     "data": {
      "text/plain": [
       "<geopyspark.geotrellis.color.ColorMap at 0x7fdd98fcd7f0>"
      ]
     },
     "execution_count": 17,
     "metadata": {},
     "output_type": "execute_result"
    }
   ],
   "source": [
    "gps.ColorMap.from_histogram(histogram=hist, color_list=color_ramp)"
   ]
  },
  {
   "cell_type": "code",
   "execution_count": 18,
   "metadata": {},
   "outputs": [
    {
     "data": {
      "text/plain": [
       "<geopyspark.geotrellis.color.ColorMap at 0x7fdd9981b898>"
      ]
     },
     "execution_count": 18,
     "metadata": {},
     "output_type": "execute_result"
    }
   ],
   "source": [
    "gps.ColorMap.from_colors(breaks=[0, 250, 1000], color_list=colors_color_ramp)"
   ]
  },
  {
   "cell_type": "code",
   "execution_count": 19,
   "metadata": {},
   "outputs": [
    {
     "data": {
      "text/plain": [
       "<geopyspark.geotrellis.color.ColorMap at 0x7fdd98fc65f8>"
      ]
     },
     "execution_count": 19,
     "metadata": {},
     "output_type": "execute_result"
    }
   ],
   "source": [
    "gps.ColorMap.nlcd_colormap()"
   ]
  },
  {
   "cell_type": "code",
   "execution_count": 20,
   "metadata": {},
   "outputs": [
    {
     "data": {
      "text/plain": [
       "<geopyspark.geotrellis.color.ColorMap at 0x7fdd98fbec50>"
      ]
     },
     "execution_count": 20,
     "metadata": {},
     "output_type": "execute_result"
    }
   ],
   "source": [
    "break_map = {\n",
    "    1: 0x00000000,\n",
    "    2: 0x00000001,\n",
    "    3: 0x00000002\n",
    "}\n",
    "\n",
    "gps.ColorMap.from_break_map(break_map=break_map)"
   ]
  },
  {
   "cell_type": "code",
   "execution_count": 21,
   "metadata": {},
   "outputs": [
    {
     "data": {
      "text/plain": [
       "<geopyspark.geotrellis.color.ColorMap at 0x7fdd98fcd630>"
      ]
     },
     "execution_count": 21,
     "metadata": {},
     "output_type": "execute_result"
    }
   ],
   "source": [
    "# build using a Histogram\n",
    "gps.ColorMap.build(breaks=hist, colors=color_ramp)\n",
    "\n",
    "# It is also possible to pass in the name of Matplotlib color ramp instead of constructing it yourself\n",
    "gps.ColorMap.build(breaks=hist, colors=\"viridis\")\n",
    "\n",
    "# build using Colors\n",
    "gps.ColorMap.build(breaks=colors_color_ramp, colors=colors)\n",
    "\n",
    "# buld using breaks\n",
    "gps.ColorMap.build(breaks=break_map)"
   ]
  },
  {
   "cell_type": "code",
   "execution_count": 22,
   "metadata": {},
   "outputs": [
    {
     "data": {
      "text/plain": [
       "<promise.promise.Promise at 0x7fdd98fbed30>"
      ]
     },
     "execution_count": 22,
     "metadata": {},
     "output_type": "execute_result"
    }
   ],
   "source": [
    "M.set_center(80.546,6.585, 11)"
   ]
  },
  {
   "cell_type": "code",
   "execution_count": 36,
   "metadata": {},
   "outputs": [],
   "source": [
    "weighted_histogram = gps.ColorMap.from_histogram(histogram=hist, color_list=color_ramp)\n",
    "weighted_color_map =gps.ColorMap.nlcd_colormap()"
   ]
  },
  {
   "cell_type": "code",
   "execution_count": 37,
   "metadata": {},
   "outputs": [],
   "source": [
    "tms = gps.TMS.build(source=pyramided ,\n",
    "                    display=weighted_color_map)"
   ]
  },
  {
   "cell_type": "code",
   "execution_count": 38,
   "metadata": {},
   "outputs": [
    {
     "data": {
      "text/plain": [
       "<promise.promise.Promise at 0x7fdd98f77b70>"
      ]
     },
     "execution_count": 38,
     "metadata": {},
     "output_type": "execute_result"
    }
   ],
   "source": [
    "M.add_layer(TMSRasterData(tms), name=\"Weighted Layer\")"
   ]
  },
  {
   "cell_type": "code",
   "execution_count": null,
   "metadata": {
    "collapsed": true
   },
   "outputs": [],
   "source": []
  }
 ],
 "metadata": {
  "kernelspec": {
   "display_name": "GeoNotebook + GeoPySpark",
   "language": "python",
   "name": "geonotebook3"
  },
  "language_info": {
   "codemirror_mode": {
    "name": "ipython",
    "version": 3
   },
   "file_extension": ".py",
   "mimetype": "text/x-python",
   "name": "python",
   "nbconvert_exporter": "python",
   "pygments_lexer": "ipython3",
   "version": "3.4.5"
  }
 },
 "nbformat": 4,
 "nbformat_minor": 2
}
