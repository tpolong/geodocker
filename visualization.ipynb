{
 "cells": [
  {
   "cell_type": "code",
   "execution_count": 1,
   "metadata": {
    "collapsed": true
   },
   "outputs": [],
   "source": [
    "import geopyspark as gps\n",
    "import matplotlib.pyplot as plt\n",
    "\n",
    "from colortools import Color\n",
    "from pyspark import SparkContext\n",
    "from functools import partial\n",
    "\n",
    "import fiona\n",
    "import pyproj\n",
    "\n",
    "from shapely.geometry import MultiPoint, MultiLineString, shape\n",
    "from shapely.ops import transform\n",
    "from geonotebook.wrappers import VectorData, TMSRasterData\n",
    "%matplotlib inline"
   ]
  },
  {
   "cell_type": "code",
   "execution_count": 2,
   "metadata": {},
   "outputs": [
    {
     "name": "stdout",
     "output_type": "stream",
     "text": [
      "  % Total    % Received % Xferd  Average Speed   Time    Time     Time  Current\n",
      "                                 Dload  Upload   Total   Spent    Left  Speed\n",
      "100 5631k  100 5631k    0     0   128k      0  0:00:43  0:00:43 --:--:--  253k\n"
     ]
    }
   ],
   "source": [
    "!curl -o /tmp/cropped.tif https://raw.githubusercontent.com/tpolong/geodocker/master/cropped.tif"
   ]
  },
  {
   "cell_type": "code",
   "execution_count": 3,
   "metadata": {
    "collapsed": true
   },
   "outputs": [],
   "source": [
    "conf = gps.geopyspark_conf(master=\"local[*]\", appName=\"visualization\")\n",
    "pysc = SparkContext(conf=conf)"
   ]
  },
  {
   "cell_type": "code",
   "execution_count": 4,
   "metadata": {
    "collapsed": true
   },
   "outputs": [],
   "source": [
    "raster_layer = gps.geotiff.get(layer_type=gps.LayerType.SPATIAL, uri=\"/tmp/cropped.tif\")\n",
    "tiled_layer = raster_layer.tile_to_layout(layout=gps.GlobalLayout(), target_crs=3857)"
   ]
  },
  {
   "cell_type": "code",
   "execution_count": 5,
   "metadata": {},
   "outputs": [
    {
     "data": {
      "text/plain": [
       "Pyramid(layer_type=LayerType.SPATIAL, max_zoom=11, num_levels=12, is_cached=False)"
      ]
     },
     "execution_count": 5,
     "metadata": {},
     "output_type": "execute_result"
    }
   ],
   "source": [
    "pyramided = tiled_layer.pyramid()\n",
    "pyramided"
   ]
  },
  {
   "cell_type": "code",
   "execution_count": 6,
   "metadata": {},
   "outputs": [
    {
     "data": {
      "text/plain": [
       "Pyramid(layer_type=LayerType.SPATIAL, max_zoom=12, num_levels=13, is_cached=False)"
      ]
     },
     "execution_count": 6,
     "metadata": {},
     "output_type": "execute_result"
    }
   ],
   "source": [
    "gps.Pyramid([tiled_layer.tile_to_layout(gps.GlobalLayout(zoom=x)) for x in range(0, 13)])"
   ]
  },
  {
   "cell_type": "code",
   "execution_count": 7,
   "metadata": {},
   "outputs": [
  
   ],
   "source": [
    "gps.Pyramid({x: tiled_layer.tile_to_layout(gps.GlobalLayout(zoom=x)) for x in range(0, 13)})"
   ]
  },
  {
   "cell_type": "code",
   "execution_count": 8,
   "metadata": {},
   "outputs": [],
   "source": [
    "hist = pyramided.get_histogram()\n",
    "hist"
   ]
  },
  {
   "cell_type": "code",
   "execution_count": 9,
   "metadata": {},
   "outputs": [
    {
     "data": {
      "text/plain": [
       "Pyramid(layer_type=LayerType.SPATIAL, max_zoom=11, num_levels=12, is_cached=False)"
      ]
     },
     "execution_count": 9,
     "metadata": {},
     "output_type": "execute_result"
    }
   ],
   "source": [
    "pyramided + 1"
   ]
  },
  {
   "cell_type": "code",
   "execution_count": 10,
   "metadata": {},
   "outputs": [
    {
     "data": {
      "text/plain": [
       "Pyramid(layer_type=LayerType.SPATIAL, max_zoom=11, num_levels=12, is_cached=False)"
      ]
     },
     "execution_count": 10,
     "metadata": {},
     "output_type": "execute_result"
    }
   ],
   "source": [
    "(2 * (pyramided + 2)) / 3"
   ]
  },
  {
   "cell_type": "code",
   "execution_count": 11,
   "metadata": {},
   "outputs": [
    {
     "data": {
      "text/plain": [
       "Pyramid(layer_type=LayerType.SPATIAL, max_zoom=4, num_levels=5, is_cached=False)"
      ]
     },
     "execution_count": 11,
     "metadata": {},
     "output_type": "execute_result"
    }
   ],
   "source": [
    "small_pyramid = gps.Pyramid({x: tiled_layer.tile_to_layout(gps.GlobalLayout(zoom=x)) for x in range(0, 5)})\n",
    "small_pyramid"
   ]
  },
  {
   "cell_type": "code",
   "execution_count": 12,
   "metadata": {},
   "outputs": [
    {
     "data": {
      "text/plain": [
       "Pyramid(layer_type=LayerType.SPATIAL, max_zoom=4, num_levels=5, is_cached=False)"
      ]
     },
     "execution_count": 12,
     "metadata": {},
     "output_type": "execute_result"
    }
   ],
   "source": [
    "pyramided + small_pyramid"
   ]
  },
  {
   "cell_type": "code",
   "execution_count": 13,
   "metadata": {},
   "outputs": [
    {
     "data": {
      "text/plain": [
       "[1140937983,\n",
       " 1141003775,\n",
       " 1141069823,\n",
       " 1157978367,\n",
       " 1158044415,\n",
       " 1158175743,\n",
       " 1175018751,\n",
       " 1175150335,\n",
       " 1175216127,\n",
       " 1175347711,\n",
       " 1192190719,\n",
       " 1192322047,\n",
       " 1192388095,\n",
       " 1192519423,\n",
       " 1192585215,\n",
       " 1192651263,\n",
       " 1192782591,\n",
       " 1209625599,\n",
       " 1209691391,\n",
       " 1209822975,\n",
       " 1209888767,\n",
       " 1209954559,\n",
       " 1210085887,\n",
       " 1210151679,\n",
       " 1210217471,\n",
       " 1210283263,\n",
       " 1193637375,\n",
       " 1193703167,\n",
       " 1193768959,\n",
       " 1193834751,\n",
       " 1193966079,\n",
       " 1194031871,\n",
       " 1194097663,\n",
       " 1177386239,\n",
       " 1177517311,\n",
       " 1177583103,\n",
       " 1177648895,\n",
       " 1160937471,\n",
       " 1161068543,\n",
       " 1161134335,\n",
       " 1161200127,\n",
       " 1144488447,\n",
       " 1144619775,\n",
       " 1127908351,\n",
       " 1127973887,\n",
       " 1128039679,\n",
       " 1111327999,\n",
       " 1111393791,\n",
       " 1111524863,\n",
       " 1094813439,\n",
       " 1094878975,\n",
       " 1078167551,\n",
       " 1078233087,\n",
       " 1061521407,\n",
       " 1061652735,\n",
       " 1044941055,\n",
       " 1045006847,\n",
       " 1028295167,\n",
       " 1028360703,\n",
       " 1028426239,\n",
       " 1011714815,\n",
       " 1011780351,\n",
       " 995134207,\n",
       " 995199743,\n",
       " 978488319,\n",
       " 978553855,\n",
       " 961842175,\n",
       " 961907711,\n",
       " 945196031,\n",
       " 945261823,\n",
       " 928550143,\n",
       " 928615679,\n",
       " 911903999,\n",
       " 911969535,\n",
       " 895257855,\n",
       " 895323391,\n",
       " 878611967,\n",
       " 878677503,\n",
       " 861965823,\n",
       " 862031359,\n",
       " 845319679,\n",
       " 845385215,\n",
       " 828673535,\n",
       " 828739071,\n",
       " 828804607,\n",
       " 812092927,\n",
       " 812158463,\n",
       " 795446783,\n",
       " 795512319,\n",
       " 778800895,\n",
       " 778866431,\n",
       " 778931967,\n",
       " 762220287,\n",
       " 762285823,\n",
       " 745574143,\n",
       " 745639679,\n",
       " 745705215,\n",
       " 728993535,\n",
       " 729059071,\n",
       " 712347391,\n",
       " 712412927,\n",
       " 712478463,\n",
       " 695766783,\n",
       " 695832319,\n",
       " 679120639,\n",
       " 679120639,\n",
       " 679186175,\n",
       " 662474495,\n",
       " 662540031,\n",
       " 662605567,\n",
       " 645893887,\n",
       " 645959423,\n",
       " 646024959,\n",
       " 629313279,\n",
       " 629378559,\n",
       " 612666879,\n",
       " 612732415,\n",
       " 612797951,\n",
       " 596086271,\n",
       " 596151807,\n",
       " 596217343,\n",
       " 579440127,\n",
       " 579505663,\n",
       " 579571199,\n",
       " 562859519,\n",
       " 562924799,\n",
       " 562990335,\n",
       " 546278655,\n",
       " 546344191,\n",
       " 546409727,\n",
       " 529698047,\n",
       " 529763327,\n",
       " 529828863,\n",
       " 529894399,\n",
       " 529959935,\n",
       " 513247999,\n",
       " 513313535,\n",
       " 513379071,\n",
       " 513379071,\n",
       " 513444351,\n",
       " 513509887,\n",
       " 513575423,\n",
       " 513640703,\n",
       " 513706239,\n",
       " 513771775,\n",
       " 513837055,\n",
       " 530679807,\n",
       " 530745087,\n",
       " 530810623,\n",
       " 547653119,\n",
       " 547718655,\n",
       " 564561407,\n",
       " 564626687,\n",
       " 581403903,\n",
       " 598246399,\n",
       " 598311679,\n",
       " 615154431,\n",
       " 631996927,\n",
       " 648839679,\n",
       " 665682175,\n",
       " 682524671,\n",
       " 699367423,\n",
       " 716209919,\n",
       " 733052415,\n",
       " 749829631,\n",
       " 783449343,\n",
       " 800291839,\n",
       " 817134335,\n",
       " 850754303,\n",
       " 867596799,\n",
       " 901216511,\n",
       " 918059007,\n",
       " 951678719,\n",
       " 968455935,\n",
       " 1002075647,\n",
       " 1035695359,\n",
       " 1052537855,\n",
       " 1086157567,\n",
       " 1119777279,\n",
       " 1153331455,\n",
       " 1170173951,\n",
       " 1203793663,\n",
       " 1237413375,\n",
       " 1271033087,\n",
       " 1304587263,\n",
       " 1338206719,\n",
       " 1371826431,\n",
       " 1405446143,\n",
       " 1439065855,\n",
       " 1472620031,\n",
       " 1506239743,\n",
       " 1539859199,\n",
       " 1590256127,\n",
       " 1623810303,\n",
       " 1657430015,\n",
       " 1691049471,\n",
       " 1741446399,\n",
       " 1775000575,\n",
       " 1808620031,\n",
       " 1842239743,\n",
       " 1892570879,\n",
       " 1926190591,\n",
       " 1959810303,\n",
       " 2010141439,\n",
       " 2043761151,\n",
       " 2094157823,\n",
       " 2127711999,\n",
       " 2178108671,\n",
       " 2211662847,\n",
       " 2262059519,\n",
       " 2295678975,\n",
       " 2346010367,\n",
       " 2379629823,\n",
       " 2429961215,\n",
       " 2463580671,\n",
       " 2513911807,\n",
       " 2547531519,\n",
       " 2597862655,\n",
       " 2648259327,\n",
       " 2681813247,\n",
       " 2732210175,\n",
       " 2782541311,\n",
       " 2816160767,\n",
       " 2866492159,\n",
       " 2916888831,\n",
       " 2950442751,\n",
       " 3000839423,\n",
       " 3051170815,\n",
       " 3084724735,\n",
       " 3135121407,\n",
       " 3185452799,\n",
       " 3219072255,\n",
       " 3269403391,\n",
       " 3319734783,\n",
       " 3353354239,\n",
       " 3403685631,\n",
       " 3454017023,\n",
       " 3487636735,\n",
       " 3537968127,\n",
       " 3571522303,\n",
       " 3621919231,\n",
       " 3672250623,\n",
       " 3705805055,\n",
       " 3756202239,\n",
       " 3789756671,\n",
       " 3840088319,\n",
       " 3890485759,\n",
       " 3924040191,\n",
       " 3974372095,\n",
       " 4007992319,\n",
       " 4058324223,\n",
       " 4091879167,\n",
       " 4142276607,\n",
       " 4175831551,\n",
       " 4209386239,\n",
       " 4259783935]"
      ]
     },
     "execution_count": 13,
     "metadata": {},
     "output_type": "execute_result"
    }
   ],
   "source": [
    "color_ramp = gps.get_colors_from_matplotlib(ramp_name=\"viridis\")\n",
    "color_ramp"
   ]
  },
  {
   "cell_type": "code",
   "execution_count": 14,
   "metadata": {},
   "outputs": [
    {
     "data": {
      "text/plain": [
       "[167772415,\n",
       " 218104063,\n",
       " 301990143,\n",
       " 385876223,\n",
       " 436207871,\n",
       " 520093951,\n",
       " 603980031,\n",
       " 704643327,\n",
       " 738197759,\n",
       " 822083839,\n",
       " 922747135,\n",
       " 956301567,\n",
       " 1056964863,\n",
       " 1140850943,\n",
       " 1224737023,\n",
       " 1275068671,\n",
       " 1358954751,\n",
       " 1442840831,\n",
       " 1493172479,\n",
       " 1577058559,\n",
       " 1660944639,\n",
       " 1761607935,\n",
       " 1795162367,\n",
       " 1879048447,\n",
       " 1979711743,\n",
       " 2013266175,\n",
       " 2113929471,\n",
       " 2197815551,\n",
       " 2281701631,\n",
       " 2332033279,\n",
       " 2415919359,\n",
       " 2499805439,\n",
       " 2550137087,\n",
       " 2634023167,\n",
       " 2717909247,\n",
       " 2818572543,\n",
       " 2852126975,\n",
       " 2936013055,\n",
       " 3036676351,\n",
       " 3120562431,\n",
       " 3170894079,\n",
       " 3254780159,\n",
       " 3338666239,\n",
       " 3388997887,\n",
       " 3472883967,\n",
       " 3556770047,\n",
       " 3640656127,\n",
       " 3690987775,\n",
       " 3774873855,\n",
       " 3875537151,\n",
       " 3909091583,\n",
       " 3992977663,\n",
       " 4093640959,\n",
       " 4177527039,\n",
       " 4227858687,\n",
       " 4278321407,\n",
       " 4278649087,\n",
       " 4278845695,\n",
       " 4279173375,\n",
       " 4279501055,\n",
       " 4279894271,\n",
       " 4280025343,\n",
       " 4280353023,\n",
       " 4280746239,\n",
       " 4280877311,\n",
       " 4281270527,\n",
       " 4281598207,\n",
       " 4281925887,\n",
       " 4282122495,\n",
       " 4282450175,\n",
       " 4282777855,\n",
       " 4282974463,\n",
       " 4283302143,\n",
       " 4283629823,\n",
       " 4284023039,\n",
       " 4284154111,\n",
       " 4284481791,\n",
       " 4284875007,\n",
       " 4285202687,\n",
       " 4285399295,\n",
       " 4285726975,\n",
       " 4286054655,\n",
       " 4286251263,\n",
       " 4286578943,\n",
       " 4286906623,\n",
       " 4287234303,\n",
       " 4287430911,\n",
       " 4287758591,\n",
       " 4288086271,\n",
       " 4288282879,\n",
       " 4288610559,\n",
       " 4289003775,\n",
       " 4289331455,\n",
       " 4289462527,\n",
       " 4289855743,\n",
       " 4290183423,\n",
       " 4290380031,\n",
       " 4290707711,\n",
       " 4291035391,\n",
       " 4291363071,\n",
       " 4291559679,\n",
       " 4291887359,\n",
       " 4292215039,\n",
       " 4292411647,\n",
       " 4292739327,\n",
       " 4293132543,\n",
       " 4293460223,\n",
       " 4293591295,\n",
       " 4293984511,\n",
       " 4294312191,\n",
       " 4294508799,\n",
       " 4294836479,\n",
       " 4294903551,\n",
       " 4294905599,\n",
       " 4294906623,\n",
       " 4294908671,\n",
       " 4294910719,\n",
       " 4294912767,\n",
       " 4294913791,\n",
       " 4294915839,\n",
       " 4294917887,\n",
       " 4294918655,\n",
       " 4294920703,\n",
       " 4294922751,\n",
       " 4294924799,\n",
       " 4294925823,\n",
       " 4294927871,\n",
       " 4294929919,\n",
       " 4294930943,\n",
       " 4294932991,\n",
       " 4294934783,\n",
       " 4294936831,\n",
       " 4294937855,\n",
       " 4294939903,\n",
       " 4294941951,\n",
       " 4294942975,\n",
       " 4294945023,\n",
       " 4294947071,\n",
       " 4294949119,\n",
       " 4294950143,\n",
       " 4294951935,\n",
       " 4294953983,\n",
       " 4294955007,\n",
       " 4294957055,\n",
       " 4294959103,\n",
       " 4294961151,\n",
       " 4294962175,\n",
       " 4294964223,\n",
       " 4294966271,\n",
       " 4294967295]"
      ]
     },
     "execution_count": 14,
     "metadata": {},
     "output_type": "execute_result"
    }
   ],
   "source": [
    "gps.get_colors_from_matplotlib(ramp_name=\"hot\", num_colors=150)"
   ]
  },
  {
   "cell_type": "code",
   "execution_count": 15,
   "metadata": {},
   "outputs": [
    {
     "data": {
      "text/plain": [
       "[Color(0, 128, 0, 255), Color(255, 0, 0, 255), Color(0, 0, 255, 255)]"
      ]
     },
     "execution_count": 15,
     "metadata": {},
     "output_type": "execute_result"
    }
   ],
   "source": [
    "colors = [Color('green'), Color('red'), Color('blue')]\n",
    "colors"
   ]
  },
  {
   "cell_type": "code",
   "execution_count": 16,
   "metadata": {},
   "outputs": [
    {
     "data": {
      "text/plain": [
       "[8388863, 4278190335, 65535]"
      ]
     },
     "execution_count": 16,
     "metadata": {},
     "output_type": "execute_result"
    }
   ],
   "source": [
    "colors_color_ramp = gps.get_colors_from_colors(colors=colors)\n",
    "colors_color_ramp"
   ]
  },
  {
   "cell_type": "code",
   "execution_count": 17,
   "metadata": {},
   "outputs": [
    {
     "data": {
      "text/plain": [
       "<geopyspark.geotrellis.color.ColorMap at 0x7fdd98fcd7f0>"
      ]
     },
     "execution_count": 17,
     "metadata": {},
     "output_type": "execute_result"
    }
   ],
   "source": [
    "gps.ColorMap.from_histogram(histogram=hist, color_list=color_ramp)"
   ]
  },
  {
   "cell_type": "code",
   "execution_count": 18,
   "metadata": {},
   "outputs": [
    {
     "data": {
      "text/plain": [
       "<geopyspark.geotrellis.color.ColorMap at 0x7fdd9981b898>"
      ]
     },
     "execution_count": 18,
     "metadata": {},
     "output_type": "execute_result"
    }
   ],
   "source": [
    "gps.ColorMap.from_colors(breaks=[0, 250, 1000], color_list=colors_color_ramp)"
   ]
  },
  {
   "cell_type": "code",
   "execution_count": 19,
   "metadata": {},
   "outputs": [
    {
     "data": {
      "text/plain": [
       "<geopyspark.geotrellis.color.ColorMap at 0x7fdd98fc65f8>"
      ]
     },
     "execution_count": 19,
     "metadata": {},
     "output_type": "execute_result"
    }
   ],
   "source": [
    "gps.ColorMap.nlcd_colormap()"
   ]
  },
  {
   "cell_type": "code",
   "execution_count": 20,
   "metadata": {},
   "outputs": [
    {
     "data": {
      "text/plain": [
       "<geopyspark.geotrellis.color.ColorMap at 0x7fdd98fbec50>"
      ]
     },
     "execution_count": 20,
     "metadata": {},
     "output_type": "execute_result"
    }
   ],
   "source": [
    "break_map = {\n",
    "    1: 0x00000000,\n",
    "    2: 0x00000001,\n",
    "    3: 0x00000002\n",
    "}\n",
    "\n",
    "gps.ColorMap.from_break_map(break_map=break_map)"
   ]
  },
  {
   "cell_type": "code",
   "execution_count": 21,
   "metadata": {},
   "outputs": [
    {
     "data": {
      "text/plain": [
       "<geopyspark.geotrellis.color.ColorMap at 0x7fdd98fcd630>"
      ]
     },
     "execution_count": 21,
     "metadata": {},
     "output_type": "execute_result"
    }
   ],
   "source": [
    "# build using a Histogram\n",
    "gps.ColorMap.build(breaks=hist, colors=color_ramp)\n",
    "\n",
    "# It is also possible to pass in the name of Matplotlib color ramp instead of constructing it yourself\n",
    "gps.ColorMap.build(breaks=hist, colors=\"viridis\")\n",
    "\n",
    "# build using Colors\n",
    "gps.ColorMap.build(breaks=colors_color_ramp, colors=colors)\n",
    "\n",
    "# buld using breaks\n",
    "gps.ColorMap.build(breaks=break_map)"
   ]
  },
  {
   "cell_type": "code",
   "execution_count": 22,
   "metadata": {},
   "outputs": [
    {
     "data": {
      "text/plain": [
       "<promise.promise.Promise at 0x7fdd98fbed30>"
      ]
     },
     "execution_count": 22,
     "metadata": {},
     "output_type": "execute_result"
    }
   ],
   "source": [
    "M.set_center(80.546,6.585, 11)"
   ]
  },
  {
   "cell_type": "code",
   "execution_count": 36,
   "metadata": {},
   "outputs": [],
   "source": [
    "weighted_histogram = gps.ColorMap.from_histogram(histogram=hist, color_list=color_ramp)\n",
    "weighted_color_map =gps.ColorMap.nlcd_colormap()"
   ]
  },
  {
   "cell_type": "code",
   "execution_count": 37,
   "metadata": {},
   "outputs": [],
   "source": [
    "tms = gps.TMS.build(source=pyramided ,\n",
    "                    display=weighted_color_map)"
   ]
  },
  {
   "cell_type": "code",
   "execution_count": 38,
   "metadata": {},
   "outputs": [
    {
     "data": {
      "text/plain": [
       "<promise.promise.Promise at 0x7fdd98f77b70>"
      ]
     },
     "execution_count": 38,
     "metadata": {},
     "output_type": "execute_result"
    }
   ],
   "source": [
    "M.add_layer(TMSRasterData(tms), name=\"Weighted Layer\")"
   ]
  },
  {
   "cell_type": "code",
   "execution_count": null,
   "metadata": {
    "collapsed": true
   },
   "outputs": [],
   "source": []
  }
 ],
 "metadata": {
  "kernelspec": {
   "display_name": "GeoNotebook + GeoPySpark",
   "language": "python",
   "name": "geonotebook3"
  },
  "language_info": {
   "codemirror_mode": {
    "name": "ipython",
    "version": 3
   },
   "file_extension": ".py",
   "mimetype": "text/x-python",
   "name": "python",
   "nbconvert_exporter": "python",
   "pygments_lexer": "ipython3",
   "version": "3.4.5"
  }
 },
 "nbformat": 4,
 "nbformat_minor": 2
}
